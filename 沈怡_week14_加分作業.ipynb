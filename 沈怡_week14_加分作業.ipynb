{
  "nbformat": 4,
  "nbformat_minor": 0,
  "metadata": {
    "colab": {
      "name": "沈怡-week14-加分作業",
      "provenance": [],
      "authorship_tag": "ABX9TyNWrkRLecGlAXsLRRX2ulxZ",
      "include_colab_link": true
    },
    "kernelspec": {
      "name": "python3",
      "display_name": "Python 3"
    },
    "language_info": {
      "name": "python"
    }
  },
  "cells": [
    {
      "cell_type": "markdown",
      "metadata": {
        "id": "view-in-github",
        "colab_type": "text"
      },
      "source": [
        "<a href=\"https://colab.research.google.com/github/A107270029/Computational-Thinking-and-Programming-Design/blob/main/%E6%B2%88%E6%80%A1_week14_%E5%8A%A0%E5%88%86%E4%BD%9C%E6%A5%AD.ipynb\" target=\"_parent\"><img src=\"https://colab.research.google.com/assets/colab-badge.svg\" alt=\"Open In Colab\"/></a>"
      ]
    },
    {
      "cell_type": "markdown",
      "metadata": {
        "id": "oNr7W4Ow0P8D"
      },
      "source": [
        "加分題: 棒打老虎雞吃蟲\n",
        "\n",
        "\n",
        "[棒打老虎雞吃蟲]跟[剪刀石頭布]是類似的遊戲,練習一下你是否也可以寫出類似的小遊戲呢?\n",
        "~寫程式只是把你中文思考的邏輯,用更清晰的方式轉換成為程式!"
      ]
    },
    {
      "cell_type": "code",
      "metadata": {
        "colab": {
          "base_uri": "https://localhost:8080/"
        },
        "id": "IEWb5xXI0bnH",
        "outputId": "d98106fa-4816-4a6b-af9b-35bd8e5ebf96"
      },
      "source": [
        "my_choice = int(input(\"請出拳 [0] 蟲 [1] 雞 [2] 老虎 [3] 棒子\"))\n",
        "print(\"你出的拳:\", my_choice)\n",
        "import random\n",
        "com_choice = random.randint(0, 3)\n",
        "print(\"電腦出拳為\", com_choice)\n",
        "# 後面勝前面,其他平手\n",
        "if my_choice == (com_choice + 1) % 4:\n",
        "  print(\"我贏了\")\n",
        "elif com_choice == (my_choice + 1) % 4:\n",
        "  print(\"電腦贏了\")\n",
        "else:\n",
        "  print(\"平手\")"
      ],
      "execution_count": 1,
      "outputs": [
        {
          "output_type": "stream",
          "text": [
            "請出拳 [0] 蟲 [1] 雞 [2] 老虎 [3] 棒子2\n",
            "你出的拳: 2\n",
            "電腦出拳為 3\n",
            "電腦贏了\n"
          ],
          "name": "stdout"
        }
      ]
    }
  ]
}
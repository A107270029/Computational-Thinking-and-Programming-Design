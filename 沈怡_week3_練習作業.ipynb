{
  "nbformat": 4,
  "nbformat_minor": 0,
  "metadata": {
    "colab": {
      "name": "沈怡-week3-作業練習.ipynb",
      "provenance": [],
      "authorship_tag": "ABX9TyMV6/2iiVfAIQfXpWFtpJlM",
      "include_colab_link": true
    },
    "kernelspec": {
      "name": "python3",
      "display_name": "Python 3"
    }
  },
  "cells": [
    {
      "cell_type": "markdown",
      "metadata": {
        "id": "view-in-github",
        "colab_type": "text"
      },
      "source": [
        "<a href=\"https://colab.research.google.com/github/A107270029/Computational-Thinking-and-Programming-Design/blob/main/%E6%B2%88%E6%80%A1_week3_%E4%BD%9C%E6%A5%AD%E7%B7%B4%E7%BF%92.ipynb\" target=\"_parent\"><img src=\"https://colab.research.google.com/assets/colab-badge.svg\" alt=\"Open In Colab\"/></a>"
      ]
    },
    {
      "cell_type": "markdown",
      "metadata": {
        "id": "VmZIJwLuNSD8"
      },
      "source": [
        "# 練習作業"
      ]
    },
    {
      "cell_type": "markdown",
      "metadata": {
        "id": "W6P2Aa4nOhWL"
      },
      "source": [
        "「用電腦解決問題」\n",
        "\n",
        "\n",
        "{運算思維的四個基石}**1**拆解問題**2**抽象化 **3**模式辨識 **4**演算法\n",
        "\n",
        "{什麼是運算思維}運算思維是用思考找到答案的過程\n",
        "\n",
        "{用電腦解決問題的步驟}**1**運算思維Analysis **2**程式設計Design **3**撰寫程式coding **4**測試與除錯casting\n",
        "\n",
        "軟體是許多指令的集合 指揮硬體運作的方式"
      ]
    },
    {
      "cell_type": "code",
      "metadata": {
        "colab": {
          "base_uri": "https://localhost:8080/"
        },
        "id": "5_gYFOkbQCOJ",
        "outputId": "24806873-e840-4570-bdc0-49ba45b7897d"
      },
      "source": [
        "print(1+1)"
      ],
      "execution_count": 1,
      "outputs": [
        {
          "output_type": "stream",
          "text": [
            "2\n"
          ],
          "name": "stdout"
        }
      ]
    },
    {
      "cell_type": "code",
      "metadata": {
        "id": "7SqDtu4kR1B4"
      },
      "source": [
        ""
      ],
      "execution_count": null,
      "outputs": []
    },
    {
      "cell_type": "markdown",
      "metadata": {
        "id": "wLnL2cdhQIbO"
      },
      "source": [
        "# 課後練習"
      ]
    },
    {
      "cell_type": "markdown",
      "metadata": {
        "id": "8g7W1jytQRP_"
      },
      "source": [
        "從一則新聞報導，提出對企管系學生為什麼要學「運算思維與程式設計」的見解\n",
        "\n",
        "https://www.gvm.com.tw/article/9340\n",
        "\n",
        "未來企業需不斷的數位化，不管是員工還是老闆，應具備專業的大數據思維或是簡單的程式資訊。學運算思維與程式設計不僅你是一個懂管理的人，更對技術方面有更多的了解，甚至加深你對邏輯的思考。管理資訊，匯成知識，是十倍速時代專業經理人須具備的專業能力。紛雜資訊中統整出意義來，是新「知識管理」風潮。照到問題點，彙整，統整世代的大數據，一定是企管學生必須要學習的見解"
      ]
    }
  ]
}

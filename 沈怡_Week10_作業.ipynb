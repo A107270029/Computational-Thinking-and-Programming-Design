{
  "nbformat": 4,
  "nbformat_minor": 0,
  "metadata": {
    "kernelspec": {
      "display_name": "Python 3",
      "language": "python",
      "name": "python3"
    },
    "language_info": {
      "codemirror_mode": {
        "name": "ipython",
        "version": 3
      },
      "file_extension": ".py",
      "mimetype": "text/x-python",
      "name": "python",
      "nbconvert_exporter": "python",
      "pygments_lexer": "ipython3",
      "version": "3.8.5"
    },
    "colab": {
      "name": "沈怡-Week10-作業.ipynb",
      "provenance": [],
      "collapsed_sections": [],
      "include_colab_link": true
    }
  },
  "cells": [
    {
      "cell_type": "markdown",
      "metadata": {
        "id": "view-in-github",
        "colab_type": "text"
      },
      "source": [
        "<a href=\"https://colab.research.google.com/github/A107270029/Computational-Thinking-and-Programming-Design/blob/main/%E6%B2%88%E6%80%A1_Week10_%E4%BD%9C%E6%A5%AD.ipynb\" target=\"_parent\"><img src=\"https://colab.research.google.com/assets/colab-badge.svg\" alt=\"Open In Colab\"/></a>"
      ]
    },
    {
      "cell_type": "markdown",
      "metadata": {
        "id": "OUo-vTMcqW8k"
      },
      "source": [
        "# 基本程式設計(應用篇)"
      ]
    },
    {
      "cell_type": "markdown",
      "metadata": {
        "id": "-Qz6C86bqW8q"
      },
      "source": [
        "### 4-2 運算思維四個基石"
      ]
    },
    {
      "cell_type": "markdown",
      "metadata": {
        "id": "v8F2ASSCqW8r"
      },
      "source": [
        "#### 4-2-4  問題拆解 - 打造你的聊天機器人"
      ]
    },
    {
      "cell_type": "markdown",
      "metadata": {
        "id": "As1CuWhVqW8r"
      },
      "source": [
        "「哈囉，大家好。我叫Zyxo64，是一個聊天機器人。\n",
        "\n",
        "在嗜好與興趣方面，我很喜歡美食，也喜歡養動物。\n",
        "\n",
        "很高興有機會來到世新大學，請大家多多指教。\n",
        "\n",
        "嗨！妳好，請問大名？：Francis。\n",
        "\n",
        "Francis，很高興認識你。"
      ]
    },
    {
      "cell_type": "code",
      "metadata": {
        "id": "fSFbN8Q-qW8s",
        "colab": {
          "base_uri": "https://localhost:8080/"
        },
        "outputId": "1f65be31-e8ab-4968-a59b-150e0cf3e43b"
      },
      "source": [
        "# 1.聊天機器人自我介紹\n",
        "print(\"哈囉，大家好。我是ROBOT777，是一個聊天機器人\")\n",
        "print(f\"在嗜好與興趣方面，我很喜歡美食，也喜歡養動物\")\n",
        "hello = \"很高興有機會來到世新大學，請大家多多指教\"\n",
        "print(hello)\n",
        "\n",
        "\n",
        "# 2. 打招呼，取得對方名字\n",
        "name = input(\"嗨!你好，請問大名?:\")\n",
        "print(\"你好\", name, \"很高興認識你\")\n"
      ],
      "execution_count": null,
      "outputs": [
        {
          "output_type": "stream",
          "text": [
            "哈囉，大家好。我是ROBOT777，是一個聊天機器人\n",
            "在嗜好與興趣方面，我很喜歡美食，也喜歡養動物\n",
            "很高興有機會來到世新大學，請大家多多指教\n"
          ],
          "name": "stdout"
        }
      ]
    },
    {
      "cell_type": "markdown",
      "metadata": {
        "id": "yHlAm7FEqW8s"
      },
      "source": [
        "抱歉，請問一下今年是西元2021年，那是民國幾年呢？：*110*。\n",
        "\n",
        "對！沒錯，謝謝妳！\n",
        "\n",
        "**Francis**，猜猜看我今年幾歲？ ：**18**。\n",
        "\n",
        "哇！你好聰明，我今年的確*18*。\n",
        "\n",
        "再82年我就100歲了。\n",
        "\n",
        "那時候是西元 2103年，也就是民國192年囉！"
      ]
    },
    {
      "cell_type": "code",
      "metadata": {
        "id": "eMYIjCA0qW8s",
        "colab": {
          "base_uri": "https://localhost:8080/"
        },
        "outputId": "0a06d0af-cf6b-48af-a7d1-ed40b329055f"
      },
      "source": [
        "# 3. 數學運算\n",
        "## 3-1 從使用者取得今年年份\n",
        "year = input(\"請問一下今年是西元2021年，那是民國幾年呢?\")\n",
        "print(\"對!沒錯，謝謝你!\")\n",
        "\n",
        "\n",
        "## 3-2 請使用者猜年\n",
        "age = input(\"Angel,猜猜看我今年幾歲?\")\n",
        "print(\"哇!你好聰明，我今年的確\", age)\n",
        "\n",
        "## 3-3 計算聊天機器人滿100歲的年份\n",
        "nyears = 100 - int(age)\n",
        "print(f\"再{nyears}年我就100歲了\")\n",
        "print(f\"到時候是西元 {int(year) + nyears + 1911}年\")\n"
      ],
      "execution_count": 1,
      "outputs": [
        {
          "output_type": "stream",
          "text": [
            "請問一下今年是西元2021年，那是民國幾年呢?110\n",
            "對!沒錯，謝謝你!\n",
            "Angel,猜猜看我今年幾歲?12\n",
            "哇!你好聰明，我今年的確 12\n",
            "再88年我就100歲了\n",
            "到時候是西元 2109年\n"
          ],
          "name": "stdout"
        }
      ]
    },
    {
      "cell_type": "markdown",
      "metadata": {
        "id": "_j9QFLfNqW8t"
      },
      "source": [
        "我喜歡吃巧克力，也喜歡嘗試各種新食物。\n",
        "\n",
        "你呢？你最喜歡的食物是什麼？**:披薩**。\n",
        "\n",
        "我也喜歡 *披薩*。\n",
        "\n",
        "你多久吃一次 *披薩*？**：每天**。\n",
        "\n",
        "真有趣。不知道這樣對健康好不好。"
      ]
    },
    {
      "cell_type": "code",
      "metadata": {
        "id": "zsstWGehqW8t",
        "colab": {
          "base_uri": "https://localhost:8080/"
        },
        "outputId": "62c0a1e7-35fd-4a85-9874-753813fec007"
      },
      "source": [
        "# 4 興趣\n",
        "food = input(\"我最喜歡吃巧克力，也喜歡嘗試各種新食物。你呢?你最喜歡的是什麼?: \")\n",
        "print(f\"我也喜歡{food}\")\n",
        "## 4-1 食物話題\n",
        "long = input(\"你多久吃一次披薩?\")\n",
        "print(\"真有趣，不知道這樣對健康好不好\")"
      ],
      "execution_count": 4,
      "outputs": [
        {
          "output_type": "stream",
          "text": [
            "我最喜歡吃巧克力，也喜歡嘗試各種新食物。你呢?你最喜歡的是什麼?: 披薩\n",
            "我也喜歡披薩\n",
            "你多久吃一次披薩?一個禮拜\n",
            "真有趣，不知道這樣對健康好不好\n"
          ],
          "name": "stdout"
        }
      ]
    },
    {
      "cell_type": "markdown",
      "metadata": {
        "id": "c-9jnTlCqW8t"
      },
      "source": [
        "我最喜歡的動物是長頸鹿。你呢？ **：烏龜**。\n",
        "\n",
        "我不喜歡*烏龜*！\n",
        "\n",
        "不知道 *烏龜* 喜不喜歡吃 *披薩*？"
      ]
    },
    {
      "cell_type": "code",
      "metadata": {
        "id": "fnbC1BosqW8t",
        "colab": {
          "base_uri": "https://localhost:8080/"
        },
        "outputId": "4154bfae-5376-4ac4-901b-5ba9ff7a404d"
      },
      "source": [
        "# 4 興趣\n",
        "## 4-2 動物話題\n",
        "animal = input(\"我最喜歡的動物是長頸鹿。你呢?: \")\n",
        "print(f\"我不喜歡{animal}\")"
      ],
      "execution_count": 2,
      "outputs": [
        {
          "output_type": "stream",
          "text": [
            "我最喜歡的動物是長頸鹿。你呢?: turtle\n",
            "我不喜歡turtle\n"
          ],
          "name": "stdout"
        }
      ]
    },
    {
      "cell_type": "markdown",
      "metadata": {
        "id": "01sZ9D-gqW8u"
      },
      "source": [
        "你今天的心情如何？ **：很開心**。\n",
        "\n",
        "可以告訴我你 *開心* 的原因嗎？**因為週末了！** \n",
        "\n",
        "祝你週末愉快！\n",
        "\n",
        "我喜歡跟你聊天，現在有點累了，改天再聊吧！！\n",
        "\n",
        "再見 *Francis*！"
      ]
    },
    {
      "cell_type": "code",
      "metadata": {
        "id": "E7mO2JaHqW8u",
        "colab": {
          "base_uri": "https://localhost:8080/"
        },
        "outputId": "5528258c-63bb-419e-cb83-60f89edf84c5"
      },
      "source": [
        "# 5. 關於心情的對話\n",
        "feeling = input(\"你今天心情如何:\")\n",
        "print(\"可以告訴我，你\", feeling, \"的原因\")\n",
        "reason = input(\"為什麼:\")\n",
        "print(\"我知道了，謝謝分享!\")"
      ],
      "execution_count": 3,
      "outputs": [
        {
          "output_type": "stream",
          "text": [
            "你今天心情如何:good\n",
            "可以告訴我，你 good 的原因\n",
            "為什麼:因為天氣好\n",
            "我知道了，謝謝分享!\n"
          ],
          "name": "stdout"
        }
      ]
    },
    {
      "cell_type": "markdown",
      "metadata": {
        "id": "suALdiLEqW8u"
      },
      "source": [
        "我喜歡跟你聊天，現在有點累了，改天再聊吧！！\n",
        "\n",
        "再見 *Francis*！"
      ]
    },
    {
      "cell_type": "code",
      "metadata": {
        "id": "UabiWb5tqW8u",
        "colab": {
          "base_uri": "https://localhost:8080/"
        },
        "outputId": "e2e9b729-6d3d-46b0-a718-7a558141a06a"
      },
      "source": [
        "# 6. 道別\n",
        "bye = input(\"我喜歡跟你聊天，現在有點累了，改天再聊吧!!\")\n",
        "print(\"再見Angel\")"
      ],
      "execution_count": 5,
      "outputs": [
        {
          "output_type": "stream",
          "text": [
            "我喜歡跟你聊天，現在有點累了，改天再聊吧!!好\n",
            "再見Angel\n"
          ],
          "name": "stdout"
        }
      ]
    },
    {
      "cell_type": "markdown",
      "metadata": {
        "id": "SmWKkLDZqW8v"
      },
      "source": [
        "## 期末報告"
      ]
    },
    {
      "cell_type": "markdown",
      "metadata": {
        "id": "JbjsSJJRqW8v"
      },
      "source": [
        "### 組長(學號姓名):\n",
        "\n"
      ]
    },
    {
      "cell_type": "markdown",
      "metadata": {
        "id": "qMNPwFPaqW8v"
      },
      "source": [
        "### 組員(學號姓名):\n",
        "\n"
      ]
    },
    {
      "cell_type": "markdown",
      "metadata": {
        "id": "UIQzfHp4qW8v"
      },
      "source": [
        "### 題目:"
      ]
    },
    {
      "cell_type": "markdown",
      "metadata": {
        "id": "9DfeQGuhqW8v"
      },
      "source": [
        "### 百字腳本\n",
        "\n"
      ]
    }
  ]
}
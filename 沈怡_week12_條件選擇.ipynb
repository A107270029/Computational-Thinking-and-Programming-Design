{
  "nbformat": 4,
  "nbformat_minor": 0,
  "metadata": {
    "kernelspec": {
      "display_name": "Python 3",
      "language": "python",
      "name": "python3"
    },
    "language_info": {
      "codemirror_mode": {
        "name": "ipython",
        "version": 3
      },
      "file_extension": ".py",
      "mimetype": "text/x-python",
      "name": "python",
      "nbconvert_exporter": "python",
      "pygments_lexer": "ipython3",
      "version": "3.8.5"
    },
    "colab": {
      "name": "沈怡-week12-條件選擇.ipynb",
      "provenance": [],
      "include_colab_link": true
    }
  },
  "cells": [
    {
      "cell_type": "markdown",
      "metadata": {
        "id": "view-in-github",
        "colab_type": "text"
      },
      "source": [
        "<a href=\"https://colab.research.google.com/github/A107270029/Computational-Thinking-and-Programming-Design/blob/main/%E6%B2%88%E6%80%A1_week12_%E6%A2%9D%E4%BB%B6%E9%81%B8%E6%93%87.ipynb\" target=\"_parent\"><img src=\"https://colab.research.google.com/assets/colab-badge.svg\" alt=\"Open In Colab\"/></a>"
      ]
    },
    {
      "cell_type": "markdown",
      "metadata": {
        "id": "8o5ustUQ1u4X"
      },
      "source": [
        "### 1. 單向選擇\n"
      ]
    },
    {
      "cell_type": "code",
      "metadata": {
        "id": "1vT0NpJe1u4Z"
      },
      "source": [
        "## 範例：比較數字（一）: if\n",
        "\n",
        "In [3]: ## 數字資料 （一）\n",
        "   ...: num = int(input(\"請輸入一個數字: \"))\n",
        "   ...: if num > 0:\n",
        "   ...: \tprint(\"數字為正數\")\n",
        "   ...: print(\"比較完畢\")\n",
        "   ...: # 輸入5, 10, -3看結果\n",
        "\n",
        "請輸入一個數字: 5\n",
        "數字為正數\n",
        "比較完畢"
      ],
      "execution_count": null,
      "outputs": []
    },
    {
      "cell_type": "code",
      "metadata": {
        "id": "CdAVhC1T1u4a",
        "colab": {
          "base_uri": "https://localhost:8080/"
        },
        "outputId": "01c850af-90b0-4595-dabb-0101b9c65266"
      },
      "source": [
        "num = 5\n",
        "if num > 0:\n",
        "      print(\"The Numer Is Positive\")\n",
        "print(\"finish\")"
      ],
      "execution_count": 2,
      "outputs": [
        {
          "output_type": "stream",
          "text": [
            "The Numer Is Positive\n",
            "finish\n"
          ],
          "name": "stdout"
        }
      ]
    },
    {
      "cell_type": "code",
      "metadata": {
        "id": "AHhpR5TC1u4a"
      },
      "source": [
        "## 範例：比較數字（二）:串接if\n",
        "\n",
        "In [5]: num = int(input(\"輸入一個數字： \"))\n",
        "   ...: \n",
        "   ...: if num > 0:\n",
        "   ...: \tprint(\"是正數\")\n",
        "   ...: if num < 0:\n",
        "   ...: \tprint(\"是負數\")\n",
        "   ...: if num == 0:\n",
        "   ...: \tprint(\"數字是0\")\n",
        "   ...: print(\"比較完畢！\")\n",
        "\n",
        "輸入一個數字： 5\n",
        "是正數\n",
        "比較完畢！"
      ],
      "execution_count": null,
      "outputs": []
    },
    {
      "cell_type": "code",
      "metadata": {
        "id": "GLirNlpY1u4b",
        "colab": {
          "base_uri": "https://localhost:8080/"
        },
        "outputId": "0a1e5315-73a2-460d-8a1d-fa67b3317062"
      },
      "source": [
        "num = 0\n",
        "if num > 0:\n",
        "      print(\"positive\")\n",
        "if num < 0:\n",
        "      print(\"negative\")\n",
        "if num == 0:\n",
        "      print(\"zero\")\n",
        "print(\"finish\")\n"
      ],
      "execution_count": 3,
      "outputs": [
        {
          "output_type": "stream",
          "text": [
            "zero\n",
            "finish\n"
          ],
          "name": "stdout"
        }
      ]
    },
    {
      "cell_type": "code",
      "metadata": {
        "id": "7hK4z06u1u4b"
      },
      "source": [
        "## 範例：比較數字（三）:巢狀條件式\n",
        "\n",
        "In [6]: ## 巢狀條件式\n",
        "   ...: num_a = int(input(\"輸入第一個數字？ \"))\n",
        "   ...: num_b = int(input(\"輸入第二個數字？ \"))\n",
        "   ...: \n",
        "   ...: if num_a < 0:\n",
        "   ...: \tprint(\"第一個是負數\")\n",
        "   ...: \tif num_b < 0:\n",
        "   ...: \t\tprint(\"第二個也是負數\")\n",
        "   ...: print(\"比較完成\")\n",
        "\n",
        "輸入第一個數字？ 5\n",
        "\n",
        "輸入第二個數字？ 8\n",
        "比較完成\n",
        "\n",
        "In [7]: ## 非巢狀結構\n",
        "   ...: num_a = int(input(\"輸入第一個數字？ \"))\n",
        "   ...: num_b = int(input(\"輸入第二個數字？ \"))\n",
        "   ...: \n",
        "   ...: if num_a < 0:\n",
        "   ...: \tprint(\"第一個是負數\")\n",
        "   ...: if num_b < 0:\n",
        "   ...: \tprint(\"第二個是負數\")\n",
        "   ...: print(\"比較完成\")\n",
        "\n",
        "輸入第一個數字？ 5\n",
        "\n",
        "輸入第二個數字？ 8\n",
        "比較完成\n",
        "\n",
        "## 加分:請舉例說明這兩個程式的執行結果何時會不同?"
      ],
      "execution_count": null,
      "outputs": []
    },
    {
      "cell_type": "code",
      "metadata": {
        "id": "AHO7TVaM1u4c",
        "colab": {
          "base_uri": "https://localhost:8080/"
        },
        "outputId": "59e890c3-641b-47c8-cfa1-39722c5b63c6"
      },
      "source": [
        "a = -5\n",
        "b = 8\n",
        "\n",
        "if a < 0:\n",
        "     print(\"first is negative\")\n",
        "     if b < 0:\n",
        "          print(\"second is negative\")\n",
        "print (\"comparison one finished\")\n",
        "\n",
        "if a < 0:\n",
        "     print(\"first is negative\")\n",
        "if b < 0:\n",
        "      print(\"second is negative\")\n",
        "print (\"comparison two is finished\")"
      ],
      "execution_count": 5,
      "outputs": [
        {
          "output_type": "stream",
          "text": [
            "first is negative\n",
            "comparison one finished\n",
            "first is negative\n",
            "comparison two is finished\n"
          ],
          "name": "stdout"
        }
      ]
    },
    {
      "cell_type": "code",
      "metadata": {
        "id": "0HFDZFQS1u4c"
      },
      "source": [
        "**範例：今晚要煮義大利麵嗎?**"
      ],
      "execution_count": null,
      "outputs": []
    },
    {
      "cell_type": "code",
      "metadata": {
        "id": "TGlGntr61u4c"
      },
      "source": [
        "In [10]: ## 今晚吃義大利麵嗎？\n",
        "    ...: noodle = input(\"有麵嗎？ YES or NO: \")\n",
        "    ...: sauce = input(\"有醬料嗎？ YES or NO: \")\n",
        "    ...: \n",
        "    ...: ## 方法（一）\n",
        "    ...: if noodle==\"YES\" and sauce==\"YES\": # 真值表結果\n",
        "    ...: \tprint(\"今天晚上吃義大利麵\")\n",
        "\n",
        "有麵嗎？ YES or NO: YES\n",
        "\n",
        "有醬料嗎？ YES or NO: YES\n",
        "今天晚上吃義大利麵\n",
        "\n",
        "In [11]: ## 方法（二）\n",
        "    ...: if noodle == \"YES\":\n",
        "    ...: \tif sauce == \"YES\":\n",
        "    ...: \t\tprint(\"今天晚上吃義大利麵\")\n",
        "    ...:         \n",
        "今天晚上吃義大利麵"
      ],
      "execution_count": null,
      "outputs": []
    },
    {
      "cell_type": "markdown",
      "metadata": {
        "id": "VSZHgAKk1u4d"
      },
      "source": [
        "## 2.  雙向選擇\n"
      ]
    },
    {
      "cell_type": "code",
      "metadata": {
        "id": "v_nPcv_41u4d"
      },
      "source": [
        "**範例: 判斷及格與不及格**\n",
        "\n",
        " In [1]: score = int(input('請輸入一個成績？'))\n",
        "    ...: if score >= 60:\n",
        "    ...:     print('有及格ㄡ～')\n",
        "    ...: else:\n",
        "    ...:     print('不及格ㄟ！')\n",
        "    ...:     \n",
        "\n",
        "請輸入一個成績？88\n",
        "有及格ㄡ～"
      ],
      "execution_count": null,
      "outputs": []
    },
    {
      "cell_type": "code",
      "metadata": {
        "id": "ZhFwvk931u4d",
        "colab": {
          "base_uri": "https://localhost:8080/"
        },
        "outputId": "5b6cf1d4-03c5-47f0-9648-1c953180b349"
      },
      "source": [
        "score = 59\n",
        "if score >= 60:\n",
        "   print(\"pass\")\n",
        "else:\n",
        "  print(\"fail\")"
      ],
      "execution_count": 7,
      "outputs": [
        {
          "output_type": "stream",
          "text": [
            "fail\n"
          ],
          "name": "stdout"
        }
      ]
    },
    {
      "cell_type": "markdown",
      "metadata": {
        "id": "2l9m7Awp1u4d"
      },
      "source": [
        "#### 隨堂練習: 滿2000 打九折\n",
        "\n",
        "**請寫一個程式幫助店家計算顧客所需付出的金額。**\n",
        "\n",
        "採買物品時，有時會遇到店家為了刺激消費，會使用滿額折扣。例如，滿2000 打九折，未滿2000 則不打折。"
      ]
    },
    {
      "cell_type": "code",
      "metadata": {
        "id": "uvOuV8ca1u4e",
        "colab": {
          "base_uri": "https://localhost:8080/"
        },
        "outputId": "928832cc-9061-4e52-f26c-3ceeb853b2a7"
      },
      "source": [
        "cost = int(input('請輸入購買金額？'))\n",
        "if cost >= 2000:\n",
        "   print(cost*0.9)\n",
        "else:\n",
        "  print(cost)"
      ],
      "execution_count": 9,
      "outputs": [
        {
          "output_type": "stream",
          "text": [
            "請輸入購買金額？5000\n",
            "4500.0\n"
          ],
          "name": "stdout"
        }
      ]
    },
    {
      "cell_type": "code",
      "metadata": {
        "id": "PmTgmw-61u4e"
      },
      "source": [
        "#### 範例 三角形判斷\n",
        "\n",
        "設計一個程式允許輸入三角形三邊長，分別為a、b 與c，根據三角形中任兩邊相加要大於第三邊，判斷是否為三角形。\n",
        "\n",
        "In [1]: a = int(input('請輸入三角形邊長a長度為？'))\n",
        "    ...: b = int(input('請輸入三角形邊長b長度為？'))\n",
        "    ...: c = int(input('請輸入三角形邊長c長度為？'))\n",
        "    ...: \n",
        "    ...: if (a < b + c)and(b < a + c)and( c < a + b):   #任兩邊相加是否大於第三邊\n",
        "    ...:     print('可構成三角形')\n",
        "    ...: else:\n",
        "    ...:     print('無法構成三角形')\n",
        "    ...:     \n",
        "\n",
        "請輸入三角形邊長a長度為？3\n",
        "\n",
        "請輸入三角形邊長b長度為？4\n",
        "\n",
        "請輸入三角形邊長c長度為？5\n",
        "可構成三角形"
      ],
      "execution_count": null,
      "outputs": []
    },
    {
      "cell_type": "code",
      "metadata": {
        "id": "ToNutuNe1u4e"
      },
      "source": [
        ""
      ],
      "execution_count": null,
      "outputs": []
    },
    {
      "cell_type": "markdown",
      "metadata": {
        "id": "ypdxnVUc1u4e"
      },
      "source": [
        "#### 隨堂練習: 判斷奇偶數\n",
        "\n",
        "請寫一個程式判斷輸入的值是奇數還是偶數。"
      ]
    },
    {
      "cell_type": "code",
      "metadata": {
        "id": "hvQxAhBp1u4e",
        "colab": {
          "base_uri": "https://localhost:8080/"
        },
        "outputId": "046b4bb6-aca0-4fbb-d2cd-335ae7ebce1b"
      },
      "source": [
        "num = int(input('請輸入一個整數？'))\n",
        "if num % 2 == 0:\n",
        "      print(num , '為偶數')\n",
        "else:\n",
        "    print(num, '為奇數')\n",
        "    "
      ],
      "execution_count": 10,
      "outputs": [
        {
          "output_type": "stream",
          "text": [
            "請輸入一個整數？2\n",
            "2 為偶數\n"
          ],
          "name": "stdout"
        }
      ]
    },
    {
      "cell_type": "markdown",
      "metadata": {
        "id": "rg4HjkR91u4f"
      },
      "source": [
        "## 3. 多向選擇\n"
      ]
    },
    {
      "cell_type": "code",
      "metadata": {
        "id": "xqBnqVoP1u4f"
      },
      "source": [
        "#### 範例：兩個數比大小\n",
        "\n",
        "In [1]: ## Input\n",
        "    ...: num1 = int(input(\"Please input a number: \"))\n",
        "    ...: num2 = int(input(\"Please input another number: \"))\n",
        "    ...: \n",
        "    ...: ## Process＋ Output\n",
        "    ...: if num1 == num2:\n",
        "    ...:     print(num1, \"等於\", num2)\n",
        "    ...: elif num1 < num2:\n",
        "    ...:     print(num1, \"小於\", num2)\n",
        "    ...: else:\n",
        "    ...:     print(num1, \"大於\", num2)\n",
        "\n",
        "Please input a number: 5\n",
        "\n",
        "Please input another number: 8\n",
        "5 小於 8"
      ],
      "execution_count": null,
      "outputs": []
    },
    {
      "cell_type": "code",
      "metadata": {
        "id": "i1T22p7Z1u4f"
      },
      "source": [
        ""
      ],
      "execution_count": null,
      "outputs": []
    },
    {
      "cell_type": "code",
      "metadata": {
        "id": "N-RMhuMq1u4f"
      },
      "source": [
        "#### 範例 : 郵資計算\n",
        "\n",
        "某快遞公司以重量為計算郵資的依據，重量與郵資計算如下表，請寫一個程式協助快遞人員計算郵資，快遞人員只要輸入重量，程式自動計算郵資。\n",
        "\n",
        "In [1]: ## 郵資計算\n",
        "    ...: w = float(input('請輸入物品重量？')) # Input\n",
        "    ...: \n",
        "    ...: if w <= 5:                          \n",
        "    ...:     print('所需郵資為50元')\n",
        "    ...: elif w <= 10:\n",
        "    ...:     print('所需郵資為70元')\n",
        "    ...: elif w <= 15:\n",
        "    ...:     print('所需郵資為90元')\n",
        "    ...: elif w <= 20:\n",
        "    ...:     print('所需郵資為110元')\n",
        "    ...: else:\n",
        "    ...:     print('超過20公斤無法寄送')\n",
        "\n",
        "請輸入物品重量？20\n",
        "所需郵資為110元"
      ],
      "execution_count": null,
      "outputs": []
    },
    {
      "cell_type": "code",
      "metadata": {
        "id": "yDhz1RJS1u4g"
      },
      "source": [
        ""
      ],
      "execution_count": null,
      "outputs": []
    },
    {
      "cell_type": "markdown",
      "metadata": {
        "id": "-Us_-tQ31u4g"
      },
      "source": [
        "#### 隨堂練習： BMI 計算\n",
        "\n",
        "**請寫一個程式讓使用者輸入身高與體重，顯示BMI 值與肥胖程度。**"
      ]
    },
    {
      "cell_type": "code",
      "metadata": {
        "id": "44NUXGb41u4g"
      },
      "source": [
        ""
      ],
      "execution_count": null,
      "outputs": []
    }
  ]
}
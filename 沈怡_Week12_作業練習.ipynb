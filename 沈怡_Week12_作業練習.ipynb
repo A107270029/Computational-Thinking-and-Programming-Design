{
  "nbformat": 4,
  "nbformat_minor": 0,
  "metadata": {
    "kernelspec": {
      "display_name": "Python 3",
      "language": "python",
      "name": "python3"
    },
    "language_info": {
      "codemirror_mode": {
        "name": "ipython",
        "version": 3
      },
      "file_extension": ".py",
      "mimetype": "text/x-python",
      "name": "python",
      "nbconvert_exporter": "python",
      "pygments_lexer": "ipython3",
      "version": "3.8.5"
    },
    "colab": {
      "name": "沈怡-Week12-作業練習.ipynb",
      "provenance": [],
      "include_colab_link": true
    }
  },
  "cells": [
    {
      "cell_type": "markdown",
      "metadata": {
        "id": "view-in-github",
        "colab_type": "text"
      },
      "source": [
        "<a href=\"https://colab.research.google.com/github/A107270029/Computational-Thinking-and-Programming-Design/blob/main/%E6%B2%88%E6%80%A1_Week12_%E4%BD%9C%E6%A5%AD%E7%B7%B4%E7%BF%92.ipynb\" target=\"_parent\"><img src=\"https://colab.research.google.com/assets/colab-badge.svg\" alt=\"Open In Colab\"/></a>"
      ]
    },
    {
      "cell_type": "markdown",
      "metadata": {
        "id": "AbL6LaMWA-as"
      },
      "source": [
        "#### 隨堂練習1: 滿2000 打九折\n",
        "\n",
        "**請寫一個程式幫助店家計算顧客所需付出的金額。**\n",
        "\n",
        "採買物品時，有時會遇到店家為了刺激消費，會使用滿額折扣。例如，滿2000 打九折，未滿2000 則不打折。"
      ]
    },
    {
      "cell_type": "code",
      "metadata": {
        "id": "ool2-3K5A-au"
      },
      "source": [
        ""
      ],
      "execution_count": null,
      "outputs": []
    },
    {
      "cell_type": "markdown",
      "metadata": {
        "id": "9Sr-03hPA-av"
      },
      "source": [
        "#### 隨堂練習2: 判斷奇偶數\n",
        "\n",
        "請寫一個程式判斷輸入的值是奇數還是偶數。"
      ]
    },
    {
      "cell_type": "code",
      "metadata": {
        "id": "d7WGuuurA-aw"
      },
      "source": [
        ""
      ],
      "execution_count": null,
      "outputs": []
    },
    {
      "cell_type": "markdown",
      "metadata": {
        "id": "vJOB8ex3A-aw"
      },
      "source": [
        "#### 練習7. Think Like a Computer Scientist\n",
        "\n",
        "如果輸入的num為20, 9, 5,和0，請用你的邏輯直接告訴我，下面兩組程式結果與差異:\n",
        "    \n",
        "```{pYTHON}\n",
        "## 方法（一）：if 敘述\n",
        "num = int(input(\"Enter a number: \"))\n",
        "if num < 6:\n",
        "    print(\"num is less than 6\")\n",
        "if num < 10:\n",
        "    print(\"num is less than 10\")\n",
        "if num > 3:\n",
        "    print(\"num is greater than 3\")\n",
        "print(\"Finished.\")\n",
        "\n",
        "## 方法（二）：if-elif-else敘述\n",
        "num = input(\"Pick a number! \")\n",
        "num = int(num)\n",
        "if num < 6:\n",
        "    print(\"number is less than 6.\")\n",
        "elif num < 10:\n",
        "    print(\"number is less than 10.\")\n",
        "elif num > 3:\n",
        "    print(\"number is greater than 3.\")\n",
        "else:\n",
        "    print(\"No relation is found.\")\n",
        "print(\"Finished.\")\n",
        "\n",
        "```"
      ]
    },
    {
      "cell_type": "code",
      "metadata": {
        "id": "rBdqzv2GA-aw",
        "colab": {
          "base_uri": "https://localhost:8080/"
        },
        "outputId": "70a5bb67-f997-4dad-a9f7-d1a592fed9df"
      },
      "source": [
        "num = int(input(\"Enter a number: \"))\n",
        "if num < 6:\n",
        "   print(\"num is less than 6\")\n",
        "if num < 10:\n",
        "   print(\"num is less than 10\")\n",
        "if num > 3:\n",
        "   print(\"num is greater than 3\")\n",
        "print(\"Finished.\")\n"
      ],
      "execution_count": 10,
      "outputs": [
        {
          "output_type": "stream",
          "text": [
            "Enter a number: 8\n",
            "num is less than 10\n",
            "num is greater than 3\n",
            "Finished.\n"
          ],
          "name": "stdout"
        }
      ]
    },
    {
      "cell_type": "markdown",
      "metadata": {
        "id": "WR4K_-9HA-aw"
      },
      "source": [
        "#### 練習2. 時尚偵測師\n",
        "\n",
        "時尚達人Cher 和 Dionne要參加一個華麗的派對。他們想確保他們的穿搭與眾不同，但有也想保留一點共同的地方，比如兩人都喜歡粉紅色。讓我們寫一些程式，確保兩人的穿搭都個性十足！\n",
        "\n",
        "～首先，請用變數賦值的方式決定兩位的穿著\n",
        "\n",
        "```{Python}\n",
        "## 例如下面的穿著建議，請同學自行修改\n",
        "cher_dress_color = \"pink\"\n",
        "cher_shoe_color = \"white\"\n",
        "cher_has_earrings = True\n",
        "dionne_dress_color = \"purple\"\n",
        "dionne_shoe_color = \"pink\"\n",
        "dionne_has_earrings = True\n",
        "```\n",
        "\n",
        "～其次，請同學用真假值做時尚偵測，檢查一下兩位時尚達人的穿搭是否符合下面的要點:\n",
        "\n",
        "1. 至少有一人穿紫色 At least one person is wearing purple? \n",
        "2. 兩人穿不同顏色的衣服Cher and Dionne have different dress colors.\n",
        "3. 兩人都戴耳環Cher and Dionne are both earing earrings.\n",
        "4. 至少有一人穿粉紅色 At least one person is wearing pink.\n",
        "5. 沒人穿綠色。 No one is wearing green.\n",
        "6. 兩人穿同顏色的鞋子 Cher and Dionne have the same shoe color.\n",
        "\n",
        "```{PYTHON}\n",
        "## 例如\n",
        "print(f'At least one person is wearing pink? {cher_dress_color == \"pink\" or dionne_dress_color == \"pink\"}')\n",
        "\n",
        ".......請同學自行撰寫判斷程式\n",
        "```\n"
      ]
    },
    {
      "cell_type": "code",
      "metadata": {
        "colab": {
          "base_uri": "https://localhost:8080/"
        },
        "id": "vn3zSMQlXSCO",
        "outputId": "c573d79b-6889-483b-abc1-a408e0f5849c"
      },
      "source": [
        "Cher_dress_color = \"pink\"\n",
        "Dionne_dress_color = \"purple\"\n",
        "\n",
        "Cher_dress_color == \"pink\"\n",
        "Dionne_dress_color == \"purple\"\n",
        "(Cher_dress_color == \"pink\") and (Dionne_dress_color == \"purple\")"
      ],
      "execution_count": 6,
      "outputs": [
        {
          "output_type": "execute_result",
          "data": {
            "text/plain": [
              "True"
            ]
          },
          "metadata": {
            "tags": []
          },
          "execution_count": 6
        }
      ]
    },
    {
      "cell_type": "markdown",
      "metadata": {
        "id": "2Fso9DJeYVoW"
      },
      "source": [
        "print(f'At least one person is wearing purple? {Cher_dress_color == \"purple\" or Dionne_dress_color == \"purple\"}')\n",
        "\n",
        "print(f'Cher and Dionne have different dress colors? {Cher_dress_color != \"purple\" and Dionne_dress_color != \"pink\"}')\n",
        "\n",
        "print(f'Cher and Dionne are both wearing earrings? {Cher_has_earrings == \"true\" and Dionne_has_earrings == \"true\"}')\n",
        "\n",
        "print(f'At least one person is wearing pink? {Cher_dress_color == \"pink\" or Dionne_dress_color == \"pink\"}')\n",
        "\n",
        "print(f'No one is wearing green? {Cher_dress_color != \"green\" and Dionne_dress_color != \"green\"}')\n",
        "\n",
        "print(f'Cher and Dionne have the same shoe color? {Cher_shoe_color == \"pink\" and Dionne_shoe_color == \"pink\"} or {Cher_shoe_color == \"white\" and Dionne_shoe_color == \"white\"}')"
      ]
    }
  ]
}